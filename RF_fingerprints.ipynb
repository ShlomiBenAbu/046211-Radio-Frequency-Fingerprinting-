{
  "nbformat": 4,
  "nbformat_minor": 0,
  "metadata": {
    "colab": {
      "provenance": [],
      "gpuType": "T4"
    },
    "kernelspec": {
      "name": "python3",
      "display_name": "Python 3"
    },
    "language_info": {
      "name": "python"
    },
    "accelerator": "GPU"
  },
  "cells": [
    {
      "cell_type": "code",
      "source": [
        "import torch\n",
        "import torch.nn as nn\n",
        "import torch.optim as optim\n",
        "import os\n",
        "import numpy as np\n",
        "import h5py\n",
        "from torch.utils.data import Dataset, DataLoader\n",
        "import matplotlib.pyplot as plt\n",
        "from sklearn.metrics import confusion_matrix\n",
        "! pip install PyWavelets\n",
        "import pywt\n",
        "import seaborn as sns"
      ],
      "metadata": {
        "id": "BXyVK7IE3fvS",
        "ExecuteTime": {
          "end_time": "2025-01-26T07:06:44.169506Z",
          "start_time": "2025-01-26T07:06:42.752219Z"
        },
        "colab": {
          "base_uri": "https://localhost:8080/"
        },
        "outputId": "701afb90-16f7-47bc-b125-d94cbe81f9a2"
      },
      "outputs": [
        {
          "output_type": "stream",
          "name": "stdout",
          "text": [
            "Collecting PyWavelets\n",
            "  Downloading pywavelets-1.8.0-cp311-cp311-manylinux_2_17_x86_64.manylinux2014_x86_64.whl.metadata (9.0 kB)\n",
            "Requirement already satisfied: numpy<3,>=1.23 in /usr/local/lib/python3.11/dist-packages (from PyWavelets) (1.26.4)\n",
            "Downloading pywavelets-1.8.0-cp311-cp311-manylinux_2_17_x86_64.manylinux2014_x86_64.whl (4.5 MB)\n",
            "\u001b[2K   \u001b[90m━━━━━━━━━━━━━━━━━━━━━━━━━━━━━━━━━━━━━━━━\u001b[0m \u001b[32m4.5/4.5 MB\u001b[0m \u001b[31m50.2 MB/s\u001b[0m eta \u001b[36m0:00:00\u001b[0m\n",
            "\u001b[?25hInstalling collected packages: PyWavelets\n",
            "Successfully installed PyWavelets-1.8.0\n"
          ]
        }
      ],
      "execution_count": 1
    },
    {
      "cell_type": "code",
      "source": [
        "def wavelet_transform(signal, wavelet='db4', level=3):\n",
        "    \"\"\"\n",
        "    Apply Discrete Wavelet Transform (DWT) on an RF signal.\n",
        "\n",
        "    Args:\n",
        "        signal (numpy array): Raw RF signal (48000, 1024, 2).\n",
        "        wavelet (str): Type of wavelet to use (default = 'db4').\n",
        "        level (int): Number of decomposition levels.\n",
        "\n",
        "    Returns:\n",
        "        Transformed signal (numpy array of the same shape).\n",
        "    \"\"\"\n",
        "    transformed_signal = np.zeros_like(signal, dtype=np.float32)\n",
        "\n",
        "    for index in range(signal.shape[0]):\n",
        "        real_part = signal[index, :, 0]\n",
        "        imag_part = signal[index, :, 1]\n",
        "\n",
        "        # Convert to complex numbers\n",
        "        complex_signal = real_part + 1j * imag_part\n",
        "\n",
        "        # Apply Wavelet Transform (DWT)\n",
        "        coeffs = pywt.wavedec(complex_signal, wavelet, level=level)\n",
        "\n",
        "        # Select **only the first (largest) coefficient array** instead of concatenation\n",
        "        approx_coeffs = coeffs[0]\n",
        "\n",
        "        # Trim or pad to 1024\n",
        "        if len(approx_coeffs) > 1024:\n",
        "            approx_coeffs = approx_coeffs[:1024]\n",
        "        elif len(approx_coeffs) < 1024:\n",
        "            approx_coeffs = np.pad(approx_coeffs, (0, 1024 - len(approx_coeffs)), mode='constant')\n",
        "\n",
        "        # Store transformed data\n",
        "        transformed_signal[index, :, 0] = approx_coeffs.real\n",
        "        transformed_signal[index, :, 1] = approx_coeffs.imag\n",
        "\n",
        "    return transformed_signal"
      ],
      "metadata": {
        "id": "vUhrOY_ApHuY"
      },
      "execution_count": 2,
      "outputs": []
    },
    {
      "cell_type": "code",
      "source": [
        "# Dataset Preparation\n",
        "class H5Dataset(Dataset):\n",
        "    def __init__(self, file_list, idx, transform=None):\n",
        "        self.data = []\n",
        "        self.labels = []\n",
        "        self.snr = []\n",
        "        for file in file_list:\n",
        "            with h5py.File(file, 'r') as f:\n",
        "                self.data.append(f['X'][:][idx])\n",
        "                self.labels.append(f['Y'][:][idx])\n",
        "                self.snr.append(f['Z'][:][idx])\n",
        "        self.data = np.vstack(self.data)\n",
        "        self.labels = np.vstack(self.labels)\n",
        "        self.snr = np.vstack(self.snr)\n",
        "        #self.transform = transform\n",
        "\n",
        "    def __len__(self):\n",
        "        return len(self.data)\n",
        "\n",
        "    def __getitem__(self, idx):\n",
        "        x = self.data[idx]\n",
        "        y = self.labels[idx]\n",
        "        z = self.snr[idx]\n",
        "        # x = wavelet_transform(x)\n",
        "        #if self.transform:\n",
        "        #    x = self.transform(x)\n",
        "        return torch.tensor(x, dtype=torch.float32), torch.tensor(y, dtype=torch.float32), torch.tensor(z, dtype=torch.float32)"
      ],
      "metadata": {
        "id": "8GzkY0OW3kmO",
        "ExecuteTime": {
          "end_time": "2025-01-26T07:06:46.379984Z",
          "start_time": "2025-01-26T07:06:46.364355Z"
        }
      },
      "outputs": [],
      "execution_count": 3
    },
    {
      "cell_type": "code",
      "source": [
        "# Transformer Components\n",
        "class MultiHeadSelfAttention(nn.Module):\n",
        "    def __init__(self, embed_dim, num_heads=8):\n",
        "\n",
        "        super(MultiHeadSelfAttention, self).__init__()\n",
        "        for layer in self.modules():\n",
        "            if isinstance(layer, nn.Linear):\n",
        "                torch.nn.init.xavier_uniform_(layer.weight)\n",
        "                if layer.bias is not None:\n",
        "                    torch.nn.init.zeros_(layer.bias)\n",
        "            elif isinstance(layer, nn.Conv2d):\n",
        "                torch.nn.init.xavier_uniform_(layer.weight)\n",
        "        self.embed_dim = embed_dim\n",
        "        self.num_heads = num_heads\n",
        "        if embed_dim % num_heads != 0:\n",
        "            raise ValueError(\n",
        "                f\"embedding dimension = {embed_dim} should be divisible by number of heads = {num_heads}\"\n",
        "            )\n",
        "        self.projection_dim = embed_dim // num_heads\n",
        "\n",
        "        self.query_dense = nn.Linear(embed_dim, embed_dim, bias=False)\n",
        "        self.key_dense = nn.Linear(embed_dim, embed_dim, bias=False)\n",
        "        self.value_dense = nn.Linear(embed_dim, embed_dim, bias=False)\n",
        "        self.combine_heads = nn.Linear(embed_dim, embed_dim)\n",
        "\n",
        "    def attention(self, query, key, value):\n",
        "        score = torch.matmul(query, key.transpose(-2, -1))\n",
        "        dim_key = torch.tensor(key.shape[-1], dtype=torch.float32)\n",
        "        scaled_score = score / torch.sqrt(dim_key + 1e-9)\n",
        "        weights = torch.softmax(scaled_score, dim=-1)\n",
        "        output = torch.matmul(weights, value)\n",
        "        return output, weights\n",
        "\n",
        "    def separate_heads(self, x, batch_size):\n",
        "        x = x.view(batch_size, -1, self.num_heads, self.projection_dim)\n",
        "        return x.permute(0, 2, 1, 3)\n",
        "\n",
        "    def forward(self, inputs):\n",
        "        batch_size = inputs.shape[0]\n",
        "        query = self.query_dense(inputs)\n",
        "        key = self.key_dense(inputs)\n",
        "        value = self.value_dense(inputs)\n",
        "\n",
        "        query = self.separate_heads(query, batch_size)\n",
        "        key = self.separate_heads(key, batch_size)\n",
        "        value = self.separate_heads(value, batch_size)\n",
        "\n",
        "        attention, _ = self.attention(query, key, value)\n",
        "        attention = attention.permute(0, 2, 1, 3).contiguous()\n",
        "        concat_attention = attention.view(batch_size, -1, self.embed_dim)\n",
        "        output = self.combine_heads(concat_attention)\n",
        "        return output"
      ],
      "metadata": {
        "id": "a4O15FmW4fyT",
        "ExecuteTime": {
          "end_time": "2025-01-26T07:06:47.269971Z",
          "start_time": "2025-01-26T07:06:47.254340Z"
        }
      },
      "outputs": [],
      "execution_count": 4
    },
    {
      "cell_type": "code",
      "source": [
        "class TransformerBlock(nn.Module):\n",
        "    def __init__(self, embed_dim, num_heads, ff_dim, dropout_rate=0.2):\n",
        "        super(TransformerBlock, self).__init__()\n",
        "        for layer in self.modules():\n",
        "            if isinstance(layer, nn.Linear):\n",
        "                torch.nn.init.xavier_uniform_(layer.weight)\n",
        "                if layer.bias is not None:\n",
        "                    torch.nn.init.zeros_(layer.bias)\n",
        "            elif isinstance(layer, nn.Conv2d):\n",
        "                torch.nn.init.xavier_uniform_(layer.weight)\n",
        "        self.att = MultiHeadSelfAttention(embed_dim, num_heads)\n",
        "        self.ffn = nn.Sequential(\n",
        "            nn.Linear(embed_dim, ff_dim),\n",
        "            nn.ReLU(),\n",
        "            nn.Linear(ff_dim, embed_dim)\n",
        "        )\n",
        "        self.layernorm1 = nn.LayerNorm(embed_dim, eps=1e-6)\n",
        "        self.layernorm2 = nn.LayerNorm(embed_dim, eps=1e-6)\n",
        "        self.dropout1 = nn.Dropout(dropout_rate)\n",
        "        self.dropout2 = nn.Dropout(dropout_rate)\n",
        "\n",
        "    def forward(self, inputs):\n",
        "        attn_output = self.att(inputs)\n",
        "        attn_output = self.dropout1(attn_output)\n",
        "        out1 = self.layernorm1(inputs + attn_output)\n",
        "        ffn_output = self.ffn(out1)\n",
        "        ffn_output = self.dropout2(ffn_output)\n",
        "        return self.layernorm2(out1 + ffn_output)"
      ],
      "metadata": {
        "id": "XnIe8Lj64ljm",
        "ExecuteTime": {
          "end_time": "2025-01-26T07:06:48.335478Z",
          "start_time": "2025-01-26T07:06:48.319856Z"
        }
      },
      "outputs": [],
      "execution_count": 5
    },
    {
      "cell_type": "code",
      "source": [
        "# Model Definition\n",
        "def proposed_model(X_train_shape, num_classes):\n",
        "    embed_dim = 1024  # Embedding size for each token\n",
        "    num_heads = 128  # Number of attention heads\n",
        "    ff_dim = 256  # Hidden layer size in feed forward network inside transformer\n",
        "\n",
        "    class Model(nn.Module):\n",
        "      def __init__(self):\n",
        "\n",
        "        super(Model, self).__init__()\n",
        "        for layer in self.modules():\n",
        "            if isinstance(layer, nn.Linear):\n",
        "                torch.nn.init.xavier_uniform_(layer.weight)\n",
        "                if layer.bias is not None:\n",
        "                    torch.nn.init.zeros_(layer.bias)\n",
        "            elif isinstance(layer, nn.Conv2d):\n",
        "                torch.nn.init.xavier_uniform_(layer.weight)\n",
        "        self.reshape = nn.Linear(X_train_shape[-1], 1024*2)\n",
        "        self.transformer_block = TransformerBlock(embed_dim, num_heads, ff_dim)\n",
        "        self.global_avg_pool = nn.AdaptiveAvgPool1d(1)\n",
        "        self.batch_norm = nn.LayerNorm(embed_dim)\n",
        "        self.dropout1 = nn.Dropout(0.3)\n",
        "        self.dense1 = nn.Linear(embed_dim, 128)\n",
        "        self.dropout2 = nn.Dropout(0.2)\n",
        "        self.dense2 = nn.Linear(128, 128)\n",
        "        self.dropout3 = nn.Dropout(0.2)\n",
        "        self.output_layer = nn.Linear(128, num_classes)\n",
        "\n",
        "      def forward(self, x):\n",
        "          x = x.view(-1, 2, 1024)\n",
        "          x = self.transformer_block(x)\n",
        "          x = self.global_avg_pool(x.transpose(1, 2)).squeeze(-1)\n",
        "          x = self.batch_norm(x)\n",
        "          x = self.dropout1(torch.selu(self.dense1(x)))\n",
        "          x = self.dropout2(torch.selu(self.dense2(x)))\n",
        "          x = self.dropout3(x)\n",
        "          x = torch.softmax(self.output_layer(x), dim=-1)\n",
        "          return x\n",
        "    return Model()\n"
      ],
      "metadata": {
        "id": "3zssWz1LVg9E",
        "ExecuteTime": {
          "end_time": "2025-01-26T07:06:49.880968Z",
          "start_time": "2025-01-26T07:06:49.865340Z"
        }
      },
      "outputs": [],
      "execution_count": 6
    },
    {
      "cell_type": "code",
      "source": [
        "from sklearn.metrics import ConfusionMatrixDisplay\n",
        "\n",
        "\n",
        "def train_model(model, train_loader, val_loader, criterion, optimizer, num_epochs):\n",
        "    train_losses, val_losses = [], []\n",
        "    train_accuracies, val_accuracies = [], []\n",
        "\n",
        "    device = torch.device(\"cuda\" if torch.cuda.is_available() else \"cpu\")\n",
        "    for epoch in range(num_epochs):\n",
        "        model.train()\n",
        "        train_loss = 0\n",
        "        correct = 0\n",
        "        total = 0\n",
        "\n",
        "        for inputs, labels, snr in train_loader:\n",
        "            inputs, labels, snr = inputs.to(device), labels.to(device), snr.to(device)\n",
        "            optimizer.zero_grad()\n",
        "            outputs = model(inputs)\n",
        "            loss = criterion(outputs, labels)\n",
        "            loss.backward()\n",
        "            optimizer.step()\n",
        "\n",
        "            train_loss += loss.item() * inputs.size(0)\n",
        "            _, predicted = outputs.max(1)\n",
        "            total += labels.size(0)\n",
        "            correct += (predicted == labels.max(1)[1]).sum().item()\n",
        "\n",
        "        train_acc = 100. * correct / total\n",
        "        train_losses.append(train_loss / total)\n",
        "        train_accuracies.append(train_acc)\n",
        "\n",
        "        val_loss, val_acc = evaluate_model(model, val_loader, criterion)\n",
        "        val_losses.append(val_loss)\n",
        "        val_accuracies.append(val_acc)\n",
        "\n",
        "        print(f\"Epoch {epoch + 1}/{num_epochs}, Train Loss: {train_loss / total:.4f}, Train Acc: {train_acc:.2f}%, Val Loss: {val_loss:.4f}, Val Acc: {val_acc:.2f}%\")\n",
        "\n",
        "    # Plotting Loss and Accuracy\n",
        "    plt.figure(figsize=(12, 5))\n",
        "    plt.subplot(1, 2, 1)\n",
        "    plt.plot(range(1, num_epochs + 1), train_losses, label='Train Loss')\n",
        "    plt.plot(range(1, num_epochs + 1), val_losses, label='Val Loss')\n",
        "    plt.xlabel('Epochs')\n",
        "    plt.ylabel('Loss')\n",
        "    plt.title('Loss Curve')\n",
        "    plt.legend()\n",
        "\n",
        "    plt.subplot(1, 2, 2)\n",
        "    plt.plot(range(1, num_epochs + 1), train_accuracies, label='Train Accuracy')\n",
        "    plt.plot(range(1, num_epochs + 1), val_accuracies, label='Val Accuracy')\n",
        "    plt.xlabel('Epochs')\n",
        "    plt.ylabel('Accuracy')\n",
        "    plt.title('Accuracy Curve')\n",
        "    plt.legend()\n",
        "\n",
        "    plt.tight_layout()\n",
        "    plt.show()\n",
        "\n",
        "def evaluate_model(model, val_loader, criterion):\n",
        "  model.eval()\n",
        "  val_loss = 0\n",
        "  correct = 0\n",
        "  total = 0\n",
        "  device = torch.device(\"cuda\" if torch.cuda.is_available() else \"cpu\")\n",
        "  with torch.no_grad():\n",
        "      for inputs, labels, snr in val_loader:\n",
        "          inputs, labels, snr = inputs.to(device), labels.to(device), snr.to(device)\n",
        "          outputs = model(inputs)\n",
        "          loss = criterion(outputs, labels)\n",
        "          val_loss += loss.item() * inputs.size(0)\n",
        "          _, predicted = outputs.max(1)\n",
        "          total += labels.size(0)\n",
        "          correct += (predicted == labels.max(1)[1]).sum().item()\n",
        "\n",
        "  val_loss /= total\n",
        "  val_acc = 100. * correct / total\n",
        "  return val_loss, val_acc\n",
        "\n",
        "# Confusion Matrix Plot\n",
        "# def plot_confusion_matrix(y_true, y_pred, classes):\n",
        "#     cm = confusion_matrix(y_true, y_pred)\n",
        "#     disp = ConfusionMatrixDisplay(confusion_matrix=cm, display_labels=classes)\n",
        "#     disp.plot(cmap=plt.cm.Blues)\n",
        "#     plt.show()\n",
        "\n",
        "def plot_confusion_matrix(cm, title='Confusion matrix', cmap=plt.cm.Blues, labels=[]):\n",
        "    plt.figure(figsize=(10, 10))\n",
        "    plt.imshow(cm, interpolation='nearest', cmap=cmap)\n",
        "    plt.title(title)\n",
        "    plt.colorbar()\n",
        "    tick_marks = np.arange(len(labels))\n",
        "    plt.xticks(tick_marks, labels, rotation=45)\n",
        "    plt.yticks(tick_marks, labels)\n",
        "    plt.tight_layout()\n",
        "    plt.ylabel('True label')\n",
        "    plt.xlabel('Predicted label')"
      ],
      "metadata": {
        "id": "ibQ2rDvo5GCB",
        "ExecuteTime": {
          "end_time": "2025-01-26T07:06:51.580727Z",
          "start_time": "2025-01-26T07:06:51.565098Z"
        }
      },
      "outputs": [],
      "execution_count": 20
    },
    {
      "cell_type": "code",
      "source": [
        "import shutil\n",
        "\n",
        "##############################全局参数#######################################\n",
        "f = h5py.File(r'dataset\\GOLD_XYZ_OSC.0001_1024.hdf5','r')\n",
        "dir_path = r'ExtractDataset'\n",
        "if os.path.exists(dir_path):\n",
        "    # Remove the directory\n",
        "    shutil.rmtree(dir_path)\n",
        "    print(f\"Deleted: {dir_path}\")\n",
        "    # Recreate the directory\n",
        "    os.mkdir(dir_path)\n",
        "modu_snr_size = 1200\n",
        "############################################################################\n",
        "\n",
        "for modu in range(24):\n",
        "\tX_list = []\n",
        "\tY_list = []\n",
        "\tZ_list = []\n",
        "\tprint('part ',modu)\n",
        "\tstart_modu = modu*106496\n",
        "\tfor snr in range(26):\n",
        "\t\tstart_snr = start_modu + snr*4096\n",
        "\t\tidx_list = np.random.choice(range(0,4096),size=modu_snr_size,replace=False)\n",
        "\t\tX = f['X'][start_snr:start_snr+4096][idx_list]\n",
        "\t\t#X = X[:,0:768,:]\n",
        "\t\tX_list.append(X)\n",
        "\t\tY_list.append(f['Y'][start_snr:start_snr+4096][idx_list])\n",
        "\t\tZ_list.append(f['Z'][start_snr:start_snr+4096][idx_list])\n",
        "\n",
        "\tfilename = dir_path + '/part' + str(modu) + '.h5'\n",
        "\tfw = h5py.File(filename,'w')\n",
        "\tfw['X'] = np.vstack(X_list)\n",
        "\tfw['Y'] = np.vstack(Y_list)\n",
        "\tfw['Z'] = np.vstack(Z_list)\n",
        "\tprint('X shape:',fw['X'].shape)\n",
        "\tprint('Y shape:',fw['Y'].shape)\n",
        "\tprint('Z shape:',fw['Z'].shape)\n",
        "\tfw.close()\n",
        "f.close()"
      ],
      "metadata": {
        "colab": {
          "base_uri": "https://localhost:8080/",
          "height": 495
        },
        "id": "g_ES0PQrCtyQ",
        "outputId": "38fc73f2-c09a-4278-da0b-3989c1c7f013",
        "ExecuteTime": {
          "end_time": "2025-01-25T19:46:54.426593Z",
          "start_time": "2025-01-25T19:46:23.623313Z"
        }
      },
      "outputs": [
        {
          "name": "stdout",
          "output_type": "stream",
          "text": [
            "Deleted: ExtractDataset\n",
            "part  0\n",
            "X shape: (31200, 1024, 2)\n",
            "Y shape: (31200, 24)\n",
            "Z shape: (31200, 1)\n",
            "part  1\n",
            "X shape: (31200, 1024, 2)\n",
            "Y shape: (31200, 24)\n",
            "Z shape: (31200, 1)\n",
            "part  2\n",
            "X shape: (31200, 1024, 2)\n",
            "Y shape: (31200, 24)\n",
            "Z shape: (31200, 1)\n",
            "part  3\n",
            "X shape: (31200, 1024, 2)\n",
            "Y shape: (31200, 24)\n",
            "Z shape: (31200, 1)\n",
            "part  4\n",
            "X shape: (31200, 1024, 2)\n",
            "Y shape: (31200, 24)\n",
            "Z shape: (31200, 1)\n",
            "part  5\n",
            "X shape: (31200, 1024, 2)\n",
            "Y shape: (31200, 24)\n",
            "Z shape: (31200, 1)\n",
            "part  6\n",
            "X shape: (31200, 1024, 2)\n",
            "Y shape: (31200, 24)\n",
            "Z shape: (31200, 1)\n",
            "part  7\n",
            "X shape: (31200, 1024, 2)\n",
            "Y shape: (31200, 24)\n",
            "Z shape: (31200, 1)\n",
            "part  8\n",
            "X shape: (31200, 1024, 2)\n",
            "Y shape: (31200, 24)\n",
            "Z shape: (31200, 1)\n",
            "part  9\n",
            "X shape: (31200, 1024, 2)\n",
            "Y shape: (31200, 24)\n",
            "Z shape: (31200, 1)\n",
            "part  10\n",
            "X shape: (31200, 1024, 2)\n",
            "Y shape: (31200, 24)\n",
            "Z shape: (31200, 1)\n",
            "part  11\n",
            "X shape: (31200, 1024, 2)\n",
            "Y shape: (31200, 24)\n",
            "Z shape: (31200, 1)\n",
            "part  12\n",
            "X shape: (31200, 1024, 2)\n",
            "Y shape: (31200, 24)\n",
            "Z shape: (31200, 1)\n",
            "part  13\n",
            "X shape: (31200, 1024, 2)\n",
            "Y shape: (31200, 24)\n",
            "Z shape: (31200, 1)\n",
            "part  14\n",
            "X shape: (31200, 1024, 2)\n",
            "Y shape: (31200, 24)\n",
            "Z shape: (31200, 1)\n",
            "part  15\n",
            "X shape: (31200, 1024, 2)\n",
            "Y shape: (31200, 24)\n",
            "Z shape: (31200, 1)\n",
            "part  16\n",
            "X shape: (31200, 1024, 2)\n",
            "Y shape: (31200, 24)\n",
            "Z shape: (31200, 1)\n",
            "part  17\n",
            "X shape: (31200, 1024, 2)\n",
            "Y shape: (31200, 24)\n",
            "Z shape: (31200, 1)\n",
            "part  18\n",
            "X shape: (31200, 1024, 2)\n",
            "Y shape: (31200, 24)\n",
            "Z shape: (31200, 1)\n",
            "part  19\n",
            "X shape: (31200, 1024, 2)\n",
            "Y shape: (31200, 24)\n",
            "Z shape: (31200, 1)\n",
            "part  20\n",
            "X shape: (31200, 1024, 2)\n",
            "Y shape: (31200, 24)\n",
            "Z shape: (31200, 1)\n",
            "part  21\n",
            "X shape: (31200, 1024, 2)\n",
            "Y shape: (31200, 24)\n",
            "Z shape: (31200, 1)\n",
            "part  22\n",
            "X shape: (31200, 1024, 2)\n",
            "Y shape: (31200, 24)\n",
            "Z shape: (31200, 1)\n",
            "part  23\n",
            "X shape: (31200, 1024, 2)\n",
            "Y shape: (31200, 24)\n",
            "Z shape: (31200, 1)\n"
          ]
        }
      ],
      "execution_count": null
    },
    {
      "cell_type": "code",
      "source": [
        "from google.colab import drive\n",
        "drive.mount('/content/drive')"
      ],
      "metadata": {
        "colab": {
          "base_uri": "https://localhost:8080/"
        },
        "id": "DgQw13dyaQ4B",
        "outputId": "354c3ea7-2213-4b4d-e464-710fd124afd1"
      },
      "execution_count": 9,
      "outputs": [
        {
          "output_type": "stream",
          "name": "stdout",
          "text": [
            "Mounted at /content/drive\n"
          ]
        }
      ]
    },
    {
      "cell_type": "code",
      "source": [
        "# Main\n",
        "if __name__ == \"__main__\":\n",
        "# File paths and dataset split\n",
        "    batch_size = 512\n",
        "    dir_path = 'drive/MyDrive/Colab Notebooks/dataSet'\n",
        "    f = h5py.File(dir_path + r'/part0.h5')\n",
        "\n",
        "    sample_num = f['X'].shape[0]\n",
        "    file_list = [dir_path + f\"/part{i}.h5\" for i in range(10)]\n",
        "    idx = np.random.choice(range(0,sample_num),size=60000)\n",
        "\n",
        "    train_size = int(0.8 * len(idx))\n",
        "    train_idx, test_idx = idx[:train_size], idx[train_size:]\n",
        "\n",
        "    train_dataset = H5Dataset(file_list, train_idx)\n",
        "    test_dataset = H5Dataset(file_list, test_idx)\n",
        "\n",
        "    train_loader = DataLoader(train_dataset, batch_size=batch_size, shuffle=True)\n",
        "    test_loader = DataLoader(test_dataset, batch_size=batch_size, shuffle=False)"
      ],
      "metadata": {
        "id": "ypaG3ZFs5JKI",
        "ExecuteTime": {
          "end_time": "2025-01-26T07:10:31.818374Z",
          "start_time": "2025-01-26T07:09:22.687147Z"
        }
      },
      "outputs": [],
      "execution_count": 10
    },
    {
      "cell_type": "code",
      "source": [
        "# Model, Loss, Optimizer\n",
        "input_shape = train_dataset[0][0].shape\n",
        "num_classes = 24\n",
        "device = torch.device(\"cuda\" if torch.cuda.is_available() else \"cpu\")\n",
        "model = proposed_model(input_shape, num_classes).to(device)\n",
        "criterion = nn.BCEWithLogitsLoss()\n",
        "optimizer = optim.Adam(model.parameters(), lr=0.0001)\n",
        "\n",
        "# Train and Evaluate\n",
        "train_model(model, train_loader, test_loader, criterion, optimizer, num_epochs=100)\n",
        "\n"
      ],
      "metadata": {
        "id": "H0ZalfH7XYOp",
        "jupyter": {
          "is_executing": true
        },
        "ExecuteTime": {
          "start_time": "2025-01-26T07:12:38.217010Z"
        },
        "colab": {
          "base_uri": "https://localhost:8080/",
          "height": 436
        },
        "outputId": "91598d1c-11c6-47f3-ddd6-4b4d3514cd31"
      },
      "outputs": [
        {
          "output_type": "stream",
          "name": "stdout",
          "text": [
            "Epoch 1/100, Train Loss: 0.7086, Train Acc: 17.73%, Val Loss: 0.7078, Val Acc: 19.80%\n",
            "Epoch 2/100, Train Loss: 0.7061, Train Acc: 24.44%, Val Loss: 0.7050, Val Acc: 27.48%\n",
            "Epoch 3/100, Train Loss: 0.7044, Train Acc: 29.40%, Val Loss: 0.7041, Val Acc: 30.22%\n",
            "Epoch 4/100, Train Loss: 0.7035, Train Acc: 32.53%, Val Loss: 0.7035, Val Acc: 32.84%\n",
            "Epoch 5/100, Train Loss: 0.7022, Train Acc: 37.04%, Val Loss: 0.7023, Val Acc: 36.80%\n",
            "Epoch 6/100, Train Loss: 0.7004, Train Acc: 42.62%, Val Loss: 0.7009, Val Acc: 41.40%\n"
          ]
        },
        {
          "output_type": "error",
          "ename": "KeyboardInterrupt",
          "evalue": "",
          "traceback": [
            "\u001b[0;31m---------------------------------------------------------------------------\u001b[0m",
            "\u001b[0;31mKeyboardInterrupt\u001b[0m                         Traceback (most recent call last)",
            "\u001b[0;32m<ipython-input-21-ea81fedc906b>\u001b[0m in \u001b[0;36m<cell line: 0>\u001b[0;34m()\u001b[0m\n\u001b[1;32m      8\u001b[0m \u001b[0;34m\u001b[0m\u001b[0m\n\u001b[1;32m      9\u001b[0m \u001b[0;31m# Train and Evaluate\u001b[0m\u001b[0;34m\u001b[0m\u001b[0;34m\u001b[0m\u001b[0m\n\u001b[0;32m---> 10\u001b[0;31m \u001b[0mtrain_model\u001b[0m\u001b[0;34m(\u001b[0m\u001b[0mmodel\u001b[0m\u001b[0;34m,\u001b[0m \u001b[0mtrain_loader\u001b[0m\u001b[0;34m,\u001b[0m \u001b[0mtest_loader\u001b[0m\u001b[0;34m,\u001b[0m \u001b[0mcriterion\u001b[0m\u001b[0;34m,\u001b[0m \u001b[0moptimizer\u001b[0m\u001b[0;34m,\u001b[0m \u001b[0mnum_epochs\u001b[0m\u001b[0;34m=\u001b[0m\u001b[0;36m100\u001b[0m\u001b[0;34m)\u001b[0m\u001b[0;34m\u001b[0m\u001b[0;34m\u001b[0m\u001b[0m\n\u001b[0m\u001b[1;32m     11\u001b[0m \u001b[0;34m\u001b[0m\u001b[0m\n",
            "\u001b[0;32m<ipython-input-20-577c14314808>\u001b[0m in \u001b[0;36mtrain_model\u001b[0;34m(model, train_loader, val_loader, criterion, optimizer, num_epochs)\u001b[0m\n\u001b[1;32m     14\u001b[0m \u001b[0;34m\u001b[0m\u001b[0m\n\u001b[1;32m     15\u001b[0m         \u001b[0;32mfor\u001b[0m \u001b[0minputs\u001b[0m\u001b[0;34m,\u001b[0m \u001b[0mlabels\u001b[0m\u001b[0;34m,\u001b[0m \u001b[0msnr\u001b[0m \u001b[0;32min\u001b[0m \u001b[0mtrain_loader\u001b[0m\u001b[0;34m:\u001b[0m\u001b[0;34m\u001b[0m\u001b[0;34m\u001b[0m\u001b[0m\n\u001b[0;32m---> 16\u001b[0;31m             \u001b[0minputs\u001b[0m\u001b[0;34m,\u001b[0m \u001b[0mlabels\u001b[0m\u001b[0;34m,\u001b[0m \u001b[0msnr\u001b[0m \u001b[0;34m=\u001b[0m \u001b[0minputs\u001b[0m\u001b[0;34m.\u001b[0m\u001b[0mto\u001b[0m\u001b[0;34m(\u001b[0m\u001b[0mdevice\u001b[0m\u001b[0;34m)\u001b[0m\u001b[0;34m,\u001b[0m \u001b[0mlabels\u001b[0m\u001b[0;34m.\u001b[0m\u001b[0mto\u001b[0m\u001b[0;34m(\u001b[0m\u001b[0mdevice\u001b[0m\u001b[0;34m)\u001b[0m\u001b[0;34m,\u001b[0m \u001b[0msnr\u001b[0m\u001b[0;34m.\u001b[0m\u001b[0mto\u001b[0m\u001b[0;34m(\u001b[0m\u001b[0mdevice\u001b[0m\u001b[0;34m)\u001b[0m\u001b[0;34m\u001b[0m\u001b[0;34m\u001b[0m\u001b[0m\n\u001b[0m\u001b[1;32m     17\u001b[0m             \u001b[0moptimizer\u001b[0m\u001b[0;34m.\u001b[0m\u001b[0mzero_grad\u001b[0m\u001b[0;34m(\u001b[0m\u001b[0;34m)\u001b[0m\u001b[0;34m\u001b[0m\u001b[0;34m\u001b[0m\u001b[0m\n\u001b[1;32m     18\u001b[0m             \u001b[0moutputs\u001b[0m \u001b[0;34m=\u001b[0m \u001b[0mmodel\u001b[0m\u001b[0;34m(\u001b[0m\u001b[0minputs\u001b[0m\u001b[0;34m)\u001b[0m\u001b[0;34m\u001b[0m\u001b[0;34m\u001b[0m\u001b[0m\n",
            "\u001b[0;31mKeyboardInterrupt\u001b[0m: "
          ]
        }
      ],
      "execution_count": 21
    },
    {
      "cell_type": "code",
      "source": [
        "torch.save(model.state_dict(), 'Rf-finger-print-model.pth')"
      ],
      "metadata": {
        "id": "BR_eQ7dieaUH"
      },
      "execution_count": null,
      "outputs": []
    },
    {
      "cell_type": "code",
      "source": [
        "# Confusion Matrix\n",
        "y_true = []\n",
        "y_pred = []\n",
        "outputs_test = []\n",
        "model.eval()\n",
        "with torch.no_grad():\n",
        "    for inputs, labels in test_loader:\n",
        "        inputs, labels = inputs.to(device), labels.to(device)\n",
        "        outputs = model(inputs)\n",
        "        _, predicted = outputs.max(1)\n",
        "        outputs_test.extend(outputs.cpu().numpy())\n",
        "        y_true.extend(labels.max(1)[1].cpu().numpy())\n",
        "        y_pred.extend(predicted.cpu().numpy())\n",
        "\n",
        "# Plot confusion matrix\n",
        "classes=[\"32PSK\", \"16APSK\", \"32QAM\", \"FM\", \"GMSK\", \"32APSK\", \"OQPSK\", \"8ASK\", \"BPSK\", \"8PSK\", \"AM-SSB-SC\", \"4ASK\", \"16PSK\", \"64APSK\", \"128QAM\", \"128APSK\", \"AM-DSB-SC\", \"AM-SSB-WC\", \"64QAM\", \"QPSK\", \"256QAM\", \"AM-DSB-WC\", \"OOK\", \"16QAM\"]\n",
        "conf = np.zeros([len(classes),len(classes)])\n",
        "confnorm = np.zeros([len(classes),len(classes)])\n",
        "outputs_test= np.array(outputs_test)\n",
        "for i in range(0, len(test_dataset)):\n",
        "    j = list(test_dataset.labels[i,:]).index(1)\n",
        "    k = int(np.argmax(outputs_test[i,:]))\n",
        "    conf[j,k] = conf[j,k] + 1\n",
        "for i in range(0,len(classes)):\n",
        "    confnorm[i,:] = conf[i,:] / np.sum(conf[i,:])\n",
        "plot_confusion_matrix(confnorm, labels=classes)\n",
        "# plot_confusion_matrix(y_true, y_pred, classes=[\"32PSK\", \"16APSK\", \"32QAM\", \"FM\", \"GMSK\", \"32APSK\", \"OQPSK\", \"8ASK\", \"BPSK\", \"8PSK\", \"AM-SSB-SC\", \"4ASK\", \"16PSK\", \"64APSK\", \"128QAM\", \"128APSK\", \"AM-DSB-SC\", \"AM-SSB-WC\", \"64QAM\", \"QPSK\", \"256QAM\", \"AM-DSB-WC\", \"OOK\", \"16QAM\"])"
      ],
      "metadata": {
        "colab": {
          "base_uri": "https://localhost:8080/",
          "height": 1000
        },
        "id": "GCTloZmXdfzM",
        "outputId": "d9041ab8-b3c0-4699-c256-0a028c05a8ef"
      },
      "execution_count": null,
      "outputs": [
        {
          "output_type": "stream",
          "name": "stderr",
          "text": [
            "<ipython-input-54-6cc9e06d1a8a>:26: RuntimeWarning: invalid value encountered in divide\n",
            "  confnorm[i,:] = conf[i,:] / np.sum(conf[i,:])\n"
          ]
        },
        {
          "output_type": "display_data",
          "data": {
            "text/plain": [
              "<Figure size 1000x1000 with 2 Axes>"
            ],
            "image/png": "[encoded data removed]"
          },
          "metadata": {}
        }
      ]
    },
    {
      "cell_type": "code",
      "source": [
        "acc={}\n",
        "Z_test = Z[test_idx]\n",
        "Z_tensor = torch.tensor(Z_test.reshape((len(Z_test))))\n",
        "SNRs = np.unique(Z_test)\n",
        "\n",
        "for snr in SNRs:\n",
        "    for inputs, labels, snr_dataset in test_loader:\n",
        "      indices = torch.where(snr_dataset == snr)\n",
        "      X_test_snr = inputs[indices]\n",
        "      Y_test_snr = labels[indices]\n",
        "\n",
        "    pre_Y_test = model(X_test_snr)\n",
        "    conf = np.zeros([len(classes),len(classes)])\n",
        "    confnorm = np.zeros([len(classes),len(classes)])\n",
        "    for i in range(0,X_test_snr.shape[0]):\n",
        "        j = list(Y_test_snr[i,:]).index(1)\n",
        "        k = int(np.argmax(pre_Y_test[i,:]))\n",
        "        conf[j,k] = conf[j,k] + 1\n",
        "    for i in range(0,len(classes)):\n",
        "        confnorm[i,:] = conf[i,:] / np.sum(conf[i,:])\n",
        "\n",
        "    plt.figure()\n",
        "    plot_confusion_matrix(confnorm, labels=classes, title=\"ConvNet Confusion Matrix (SNR=%d)\"%(snr))\n",
        "\n",
        "    cor = np.sum(np.diag(conf))\n",
        "    ncor = np.sum(conf) - cor\n",
        "    print (\"Overall Accuracy %s: \"%snr, cor / (cor+ncor))\n",
        "    acc[snr] = 1.0*cor/(cor+ncor)"
      ],
      "metadata": {
        "colab": {
          "base_uri": "https://localhost:8080/",
          "height": 211
        },
        "id": "jrUdS-Xjk-Sm",
        "outputId": "28fb1190-0cad-4489-8b30-96f06c87bb09"
      },
      "execution_count": 16,
      "outputs": [
        {
          "output_type": "error",
          "ename": "NameError",
          "evalue": "name 'model' is not defined",
          "traceback": [
            "\u001b[0;31m---------------------------------------------------------------------------\u001b[0m",
            "\u001b[0;31mNameError\u001b[0m                                 Traceback (most recent call last)",
            "\u001b[0;32m<ipython-input-16-48c212dc1f99>\u001b[0m in \u001b[0;36m<cell line: 0>\u001b[0;34m()\u001b[0m\n\u001b[1;32m     10\u001b[0m       \u001b[0mY_test_snr\u001b[0m \u001b[0;34m=\u001b[0m \u001b[0mlabels\u001b[0m\u001b[0;34m[\u001b[0m\u001b[0mindices\u001b[0m\u001b[0;34m]\u001b[0m\u001b[0;34m\u001b[0m\u001b[0;34m\u001b[0m\u001b[0m\n\u001b[1;32m     11\u001b[0m \u001b[0;34m\u001b[0m\u001b[0m\n\u001b[0;32m---> 12\u001b[0;31m     \u001b[0mpre_Y_test\u001b[0m \u001b[0;34m=\u001b[0m \u001b[0mmodel\u001b[0m\u001b[0;34m(\u001b[0m\u001b[0mX_test_snr\u001b[0m\u001b[0;34m)\u001b[0m\u001b[0;34m\u001b[0m\u001b[0;34m\u001b[0m\u001b[0m\n\u001b[0m\u001b[1;32m     13\u001b[0m     \u001b[0mconf\u001b[0m \u001b[0;34m=\u001b[0m \u001b[0mnp\u001b[0m\u001b[0;34m.\u001b[0m\u001b[0mzeros\u001b[0m\u001b[0;34m(\u001b[0m\u001b[0;34m[\u001b[0m\u001b[0mlen\u001b[0m\u001b[0;34m(\u001b[0m\u001b[0mclasses\u001b[0m\u001b[0;34m)\u001b[0m\u001b[0;34m,\u001b[0m\u001b[0mlen\u001b[0m\u001b[0;34m(\u001b[0m\u001b[0mclasses\u001b[0m\u001b[0;34m)\u001b[0m\u001b[0;34m]\u001b[0m\u001b[0;34m)\u001b[0m\u001b[0;34m\u001b[0m\u001b[0;34m\u001b[0m\u001b[0m\n\u001b[1;32m     14\u001b[0m     \u001b[0mconfnorm\u001b[0m \u001b[0;34m=\u001b[0m \u001b[0mnp\u001b[0m\u001b[0;34m.\u001b[0m\u001b[0mzeros\u001b[0m\u001b[0;34m(\u001b[0m\u001b[0;34m[\u001b[0m\u001b[0mlen\u001b[0m\u001b[0;34m(\u001b[0m\u001b[0mclasses\u001b[0m\u001b[0;34m)\u001b[0m\u001b[0;34m,\u001b[0m\u001b[0mlen\u001b[0m\u001b[0;34m(\u001b[0m\u001b[0mclasses\u001b[0m\u001b[0;34m)\u001b[0m\u001b[0;34m]\u001b[0m\u001b[0;34m)\u001b[0m\u001b[0;34m\u001b[0m\u001b[0;34m\u001b[0m\u001b[0m\n",
            "\u001b[0;31mNameError\u001b[0m: name 'model' is not defined"
          ]
        }
      ]
    }
  ]
}